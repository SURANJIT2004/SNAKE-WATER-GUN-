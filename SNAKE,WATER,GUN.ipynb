{
 "cells": [
  {
   "cell_type": "code",
   "execution_count": 9,
   "id": "bcacd095-8ee6-4e96-96bb-6da141f9b8cf",
   "metadata": {},
   "outputs": [
    {
     "name": "stdout",
     "output_type": "stream",
     "text": [
      "LET US REWIND \n"
     ]
    },
    {
     "name": "stdin",
     "output_type": "stream",
     "text": [
      "Enter 's' for Snake, 'w' for Water, 'g' for Gun:  s\n"
     ]
    },
    {
     "name": "stdout",
     "output_type": "stream",
     "text": [
      "You chose s\n",
      "Computer chose s\n",
      "SAME MIND SET, 'ITS A TIE' \n"
     ]
    }
   ],
   "source": [
    "import random\n",
    "\n",
    "def get_user_choice():\n",
    "    while True:\n",
    "        user_choice = input(\"Enter 's' for Snake, 'w' for Water, 'g' for Gun: \").lower()\n",
    "        \n",
    "        if user_choice in ['s', 'w', 'g']:\n",
    "            return user_choice\n",
    "        else:\n",
    "            print(\" Ooo Invalid choice! Please enter among them ['s', 'w', or 'g'].\")\n",
    "            \n",
    "\n",
    "def get_computer_choice():\n",
    "    return random.choice(['s', 'w', 'g'])\n",
    "\n",
    "def determine_winner(user_choice, computer_choice):\n",
    "    if user_choice == computer_choice:\n",
    "        return \"SAME MIND SET, 'ITS A TIE' \"\n",
    "    elif (user_choice == 's' and computer_choice == 'w') or (user_choice == 'w' and computer_choice == 'g') or  (user_choice == 'g' and computer_choice == 's'):\n",
    "        return \" 'CONGRATULATION YOU WIN' \"\n",
    "    else:\n",
    "        return \"CONGRATULATION TO ME [COMPUTER] . 'I WIN IT' \"\n",
    "\n",
    "def lets_play_game():\n",
    "    print(\"LET US REWIND \")\n",
    "    user_choice = get_user_choice()\n",
    "    computer_choice = get_computer_choice()\n",
    "    print(\"You chose\" , user_choice)\n",
    "    print(\"Computer chose\" ,computer_choice)\n",
    "    print(determine_winner(user_choice, computer_choice))\n",
    "\n",
    "lets_play_game()\n"
   ]
  }
 ],
 "metadata": {
  "kernelspec": {
   "display_name": "Python 3 (ipykernel)",
   "language": "python",
   "name": "python3"
  },
  "language_info": {
   "codemirror_mode": {
    "name": "ipython",
    "version": 3
   },
   "file_extension": ".py",
   "mimetype": "text/x-python",
   "name": "python",
   "nbconvert_exporter": "python",
   "pygments_lexer": "ipython3",
   "version": "3.11.5"
  }
 },
 "nbformat": 4,
 "nbformat_minor": 5
}
